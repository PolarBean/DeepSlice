{
 "cells": [
  {
   "cell_type": "markdown",
   "metadata": {},
   "source": [
    "# Data loading and preprocessing"
   ]
  },
  {
   "cell_type": "code",
   "execution_count": null,
   "metadata": {},
   "outputs": [],
   "source": [
    "cd DS_alignments"
   ]
  },
  {
   "cell_type": "code",
   "execution_count": null,
   "metadata": {},
   "outputs": [],
   "source": [
    "##import dependencies\n",
    "import numpy as np\n",
    "import pandas as pd\n",
    "import glob\n",
    "import os\n",
    "##Import my QuickNII to csv conversion tool\n",
    "from utilities.QuickNII_functions import XML_to_csv"
   ]
  },
  {
   "cell_type": "code",
   "execution_count": 3,
   "metadata": {},
   "outputs": [],
   "source": [
    "###Load the DeepSlice Alignments\n",
    "DAB_DS = XML_to_csv('DeepSlice_alignments/DeepSlice___DAB.xml')\n",
    "CAMKII_DS = XML_to_csv('DeepSlice_alignments/DeepSlice__CAMKII_.xml')\n",
    "GLTa_DS = XML_to_csv('DeepSlice_alignments/DeepSlice__GLTa.xml')\n",
    "ISH_DS = XML_to_csv('DeepSlice_alignments/ISH_Calb1___DeepSlice_prop_angles_Gauss.xml')\n",
    "MYELIN_DS = XML_to_csv('DeepSlice_alignments/Myelin___DeepSlice_prop_angles_Gauss.xml')\n",
    "PCP2_DS = XML_to_csv('DeepSlice_alignments/tTa_PcP2DeepSlice_prop_angles_Gauss.xml')\n",
    "PITX_DS = XML_to_csv('DeepSlice_alignments/tTa_PITx3___DeepSlice_prop_angles_Gauss.xml')\n",
    "###Load the Bjaalie group alignments\n",
    "DAB_JB = XML_to_csv('Bjaalie_alignments/Mouse_series_DAB_staining - human.xml')\n",
    "CAMKII_JB = XML_to_csv('Bjaalie_alignments/tTA_CamKII_updated_op2.xml')\n",
    "GLTa_JB = XML_to_csv('Bjaalie_alignments/NM01_GLT1a_op2.xml')\n",
    "ISH_JB = XML_to_csv('Bjaalie_alignments/Coronal_Calb1_Allen_71717640 -human.xml')\n",
    "MYELIN_JB = XML_to_csv('Bjaalie_alignments/NM01_Myelin_op2.xml')\n",
    "PCP2_JB = XML_to_csv('Bjaalie_alignments/1261_tTA_cut_op2.xml')\n",
    "PITX_JB = XML_to_csv('Bjaalie_alignments/tTA_6517_Pitx3_coronal_cut-op2.xml')\n",
    "###Load the McMullan group alignments\n",
    "DAB_SM = XML_to_csv('Simon_alignments/Mouse_series_DAB_staining - SM.xml')\n",
    "CAMKII_SM = XML_to_csv('Simon_alignments/tTA_CamKII_updated_SM2.xml')\n",
    "GLTa_SM = XML_to_csv('Simon_alignments/NM01_GLT1a_SM.xml')\n",
    "PITX_SM = XML_to_csv('Simon_alignments/tTA_6517_Pitx3___coronal_SM.flipped.xml')\n",
    "###Alignments in progress\n",
    "# ISH_SM = pd.read_csv('Simon_alignments/...xml')\n",
    "# MYELIN_SM = pd.read_csv('Simon_alignments/...xml')\n",
    "# PCP2_SM = pd.read_csv('Simon_alignments/...xml')\n",
    "\n",
    "\n",
    "##I found the order of the DS datasets is reversed so I fix that here\n",
    "DAB_DS = DAB_DS[::-1].reset_index(drop=True)\n",
    "CAMKII_DS = CAMKII_DS[::-1].reset_index(drop=True)\n",
    "GLTa_DS = GLTa_DS[::-1].reset_index(drop=True)\n",
    "ISH_DS = ISH_DS[::-1].reset_index(drop=True) \n",
    "MYELIN_DS = MYELIN_DS[::-1].reset_index(drop=True)   \n",
    "PCP2_DS = PCP2_DS[::-1].reset_index(drop=True) \n",
    "PITX_DS = PITX_DS[::-1].reset_index(drop=True)  \n",
    "\n",
    "##put the datasets in a list for easy modifications\n",
    "datasets = [DAB_DS, CAMKII_DS, GLTa_DS, ISH_DS, MYELIN_DS, PCP2_DS, PITX_DS, DAB_JB, CAMKII_JB, GLTa_JB,\n",
    "           ISH_JB, MYELIN_JB, PCP2_JB, PITX_JB, DAB_SM, CAMKII_SM, GLTa_SM, PITX_SM ]\n",
    "\n",
    "DS_datasets = [DAB_DS, CAMKII_DS, GLTa_DS, PITX_DS, ISH_DS, MYELIN_DS, PCP2_DS]\n",
    "\n",
    "SM_datasets = [DAB_SM, CAMKII_SM, GLTa_SM, PITX_SM ]\n",
    "\n",
    "JB_datasets = [DAB_JB, CAMKII_JB, GLTa_JB, PITX_JB, ISH_JB, MYELIN_JB, PCP2_JB]\n",
    "\n"
   ]
  },
  {
   "cell_type": "code",
   "execution_count": 4,
   "metadata": {},
   "outputs": [],
   "source": [
    "\n",
    "\n",
    "def data_formatter(data, columns):\n",
    "    data[columns] = data[columns].astype(np.float64)\n",
    "    return data"
   ]
  },
  {
   "cell_type": "code",
   "execution_count": null,
   "metadata": {},
   "outputs": [],
   "source": []
  },
  {
   "cell_type": "code",
   "execution_count": 5,
   "metadata": {},
   "outputs": [],
   "source": [
    "columns = ['ox', 'oy' ,'oz', 'ux', 'uy', 'uz', 'vx', 'vy', 'vz']\n",
    "##Function to change the coordinate columns to floating point values\n",
    "\n",
    "##set all the coordinate columns to floating point values\n",
    "datasets = [data_formatter(data, columns) for data in datasets]\n",
    "\n"
   ]
  },
  {
   "cell_type": "markdown",
   "metadata": {},
   "source": [
    "# Distance Analysis"
   ]
  },
  {
   "cell_type": "code",
   "execution_count": 6,
   "metadata": {},
   "outputs": [],
   "source": [
    "###Here we compare the data simon has aligned to the data Jan Bjaalies group has aligned\n",
    "\n",
    "###Get the average corner distance for each dataset Simon has aligned\n",
    "Expert_distances = [(abs(SM_datasets[i][columns]-JB_datasets[i][columns]).mean().mean()) for i in range(len(SM_datasets))]\n",
    "###Get the average standard deviation for each dataset Simon has aligned\n",
    "Expert_standard_dev = [(abs(SM_datasets[i][columns]-JB_datasets[i][columns]).mean(axis=1).std()) for i in range(len(SM_datasets))]\n",
    "###Here we compare the data simon has aligned to the data DeepSlice has aligned\n",
    "\n",
    "###Get the average corner distance for each dataset Simon and DeepSlice has aligned\n",
    "SM_DS_distances = [(abs(SM_datasets[i][columns]-DS_datasets[i][columns]).mean().mean()) for i in range(len(SM_datasets))]\n",
    "###Get the average standard deviation for each dataset Simon and DeepSlice has aligned\n",
    "SM_DS_standard_dev = [(abs(SM_datasets[i][columns]-DS_datasets[i][columns]).mean(axis=1).std()) for i in range(len(SM_datasets))]\n",
    "\n",
    "###Get the average corner distance for each dataset Simon and DeepSlice has aligned\n",
    "JB_DS_distances = [(abs(JB_datasets[i][columns]-DS_datasets[i][columns]).mean().mean()) for i in range(len(SM_datasets))]\n",
    "###Get the average standard deviation for each dataset Simon and DeepSlice has aligned\n",
    "JB_DS_standard_dev = [(abs(JB_datasets[i][columns]-DS_datasets[i][columns]).mean(axis=1).std()) for i in range(len(DS_datasets))]"
   ]
  },
  {
   "cell_type": "code",
   "execution_count": 7,
   "metadata": {},
   "outputs": [
    {
     "data": {
      "text/plain": [
       "[9.43761342294645, 16.734594984846563, 14.567721163656593, 14.08984679992698]"
      ]
     },
     "execution_count": 7,
     "metadata": {},
     "output_type": "execute_result"
    }
   ],
   "source": [
    "JB_DS_distances"
   ]
  },
  {
   "cell_type": "code",
   "execution_count": 22,
   "metadata": {},
   "outputs": [
    {
     "data": {
      "image/png": "[encoded data removed]",
      "text/plain": [
       "<Figure size 432x288 with 1 Axes>"
      ]
     },
     "metadata": {
      "needs_background": "light"
     },
     "output_type": "display_data"
    }
   ],
   "source": [
    "import matplotlib\n",
    "import matplotlib.pyplot as plt\n",
    "fig, ax = plt.subplots()\n",
    "\n",
    "ind = np.arange(len(SM_datasets))\n",
    "width = 0.35  # the width of the bars\n",
    "\n",
    "SM_JB_Bar = ax.bar(ind - width/2, Expert_distances, width, yerr=Expert_standard_dev,\n",
    "                label='SM_JB')\n",
    "\n",
    "SM_DS_Bar = ax.bar(ind + width/2, SM_DS_distances, width, yerr=SM_DS_standard_dev,\n",
    "                label='SM_DS')\n",
    "\n",
    "# JB_DS_Bar = ax.bar(ind + width/2, JB_DS_distances, width, yerr=JB_DS_standard_dev,\n",
    "#                 label='JB_DS')\n",
    "\n",
    "\n",
    "\n",
    "def autolabel(rects, xpos='center'):\n",
    "    \"\"\"\n",
    "    Attach a text label above each bar in *rects*, displaying its height.\n",
    "\n",
    "    *xpos* indicates which side to place the text w.r.t. the center of\n",
    "    the bar. It can be one of the following {'center', 'right', 'left'}.\n",
    "    \"\"\"\n",
    "\n",
    "    ha = {'center': 'center', 'right': 'left', 'left': 'right'}\n",
    "    offset = {'center': 0, 'right': 1, 'left': -1}\n",
    "\n",
    "    for rect in rects:\n",
    "        height = rect.get_height()\n",
    "        ax.annotate('{}'.format(height),\n",
    "                    xy=(rect.get_x() + rect.get_width() / 2, height),\n",
    "                    xytext=(offset[xpos]*3, 3),  # use 3 points offset\n",
    "                    textcoords=\"offset points\",  # in both directions\n",
    "                    ha=ha[xpos], va='bottom')\n",
    "\n",
    "        \n",
    "        \n",
    "ax.set_ylabel('Distance')\n",
    "ax.set_title('Raw Corner Voxel Distance')\n",
    "ax.set_xticks(ind)\n",
    "ax.set_xticklabels(('DAB', 'CAMKII', 'GLTa', 'PITX'))\n",
    "ax.legend()\n",
    "\n",
    "\n",
    "# autolabel(rects1, \"left\")\n",
    "# autolabel(rects2, \"right\")\n",
    "\n",
    "fig.tight_layout()\n",
    "\n",
    "plt.show()"
   ]
  },
  {
   "cell_type": "code",
   "execution_count": 73,
   "metadata": {},
   "outputs": [
    {
     "data": {
      "text/plain": [
       "[8.861819632209734, 8.1221723433491, 14.691474071153197, 10.430264322576718]"
      ]
     },
     "execution_count": 73,
     "metadata": {},
     "output_type": "execute_result"
    }
   ],
   "source": [
    "Expert_distances"
   ]
  },
  {
   "cell_type": "code",
   "execution_count": 74,
   "metadata": {},
   "outputs": [
    {
     "data": {
      "text/plain": [
       "[2.8494026199160856, 2.4873551659375823, 3.007182995260069, 4.003279406366454]"
      ]
     },
     "execution_count": 74,
     "metadata": {},
     "output_type": "execute_result"
    }
   ],
   "source": [
    "Expert_standard_dev"
   ]
  },
  {
   "cell_type": "code",
   "execution_count": 75,
   "metadata": {},
   "outputs": [
    {
     "data": {
      "text/plain": [
       "[7.288777333659411, 15.711969525516517, 9.768851610100869, 11.298725141943205]"
      ]
     },
     "execution_count": 75,
     "metadata": {},
     "output_type": "execute_result"
    }
   ],
   "source": [
    "SM_DS_distances"
   ]
  },
  {
   "cell_type": "code",
   "execution_count": 85,
   "metadata": {},
   "outputs": [
    {
     "data": {
      "text/plain": [
       "[3.131615810019841, 9.53582029387766, 4.058764762736527, 4.170016366551496]"
      ]
     },
     "execution_count": 85,
     "metadata": {},
     "output_type": "execute_result"
    }
   ],
   "source": [
    "SM_DS_standard_dev"
   ]
  },
  {
   "cell_type": "code",
   "execution_count": 83,
   "metadata": {},
   "outputs": [
    {
     "data": {
      "text/plain": [
       "0      7.422615\n",
       "1     11.824076\n",
       "2      9.913621\n",
       "3      9.926502\n",
       "4     10.265426\n",
       "5      9.826156\n",
       "6     22.957766\n",
       "7     16.850915\n",
       "8     12.322657\n",
       "9      8.964145\n",
       "10     8.061881\n",
       "11     8.100702\n",
       "12    11.080694\n",
       "13    23.422553\n",
       "14    12.342488\n",
       "15     7.679368\n",
       "16    10.458093\n",
       "17    10.596138\n",
       "18    11.661885\n",
       "19    10.092772\n",
       "20    10.402626\n",
       "21    11.276888\n",
       "22    10.163471\n",
       "23    10.549543\n",
       "24     9.787680\n",
       "25    10.919962\n",
       "26    10.420557\n",
       "27    11.044001\n",
       "28     8.736340\n",
       "29    11.802293\n",
       "30     8.139789\n",
       "31     7.316844\n",
       "dtype: float64"
      ]
     },
     "execution_count": 83,
     "metadata": {},
     "output_type": "execute_result"
    }
   ],
   "source": []
  },
  {
   "cell_type": "code",
   "execution_count": 70,
   "metadata": {},
   "outputs": [],
   "source": [
    "\n",
    "##here i create a weird average expert score for each slice\n",
    "\n",
    "EX_AVG_datasets = [(SM_datasets[i][columns] + JB_datasets[i][columns])/2 for i in range(len(SM_datasets))]\n",
    "\n",
    "###Get the average corner distance for each dataset Simon and DeepSlice has aligned\n",
    "AVG_DS_distances = [(abs(EX_AVG_datasets[i]-DS_datasets[i][columns]).mean().mean()) for i in range(len(SM_datasets))]\n",
    "###Get the average standard deviation for each dataset Simon and DeepSlice has aligned\n",
    "AVG_DS_standard_dev = [(abs(EX_AVG_datasets[i]-DS_datasets[i][columns]).mean(axis=1).std()) for i in range(len(SM_datasets))]\n",
    "\n"
   ]
  },
  {
   "cell_type": "markdown",
   "metadata": {},
   "source": [
    "Here we compare Simon to the independant expert and then DeepSlice to both experts independantly, \n",
    "\n",
    "We find that except for one dataset deepslice performs comparably to the inter-rater reliability of expert neuroanatomists"
   ]
  },
  {
   "cell_type": "code",
   "execution_count": 66,
   "metadata": {},
   "outputs": [
    {
     "data": {
      "image/png": "[encoded data removed]",
      "text/plain": [
       "<Figure size 960x720 with 1 Axes>"
      ]
     },
     "metadata": {},
     "output_type": "display_data"
    }
   ],
   "source": [
    "import numpy as np\n",
    "import matplotlib.pyplot as plt\n",
    "from matplotlib.pyplot import figure\n",
    "figure(num=None, figsize=(8, 6), dpi=120, facecolor='w', edgecolor='k')\n",
    "# set width of bar\n",
    "barWidth = 0.25\n",
    " \n",
    "# set height of bar\n",
    "bars1 = Expert_distances\n",
    "bars2 = SM_DS_distances\n",
    "bars3 = JB_DS_distances\n",
    " \n",
    "# Set position of bar on X axis\n",
    "r1 = np.arange(len(bars1))\n",
    "r2 = [x + barWidth for x in r1]\n",
    "r3 = [x + barWidth for x in r2]\n",
    " \n",
    "# Make the plot\n",
    "plt.bar(r1, bars1, width=barWidth, color='#d62828', edgecolor='white', label='Simon vs Bjaalie')\n",
    "plt.bar(r2, bars2, width=barWidth, color='#f77f00', edgecolor='white', label='Simon vs DeepSlice')\n",
    "plt.bar(r3, bars3, width=barWidth, color='#fcbf49', edgecolor='white',label='Bjaalie vs DeepSlice')\n",
    "for r, dist, dev in zip([r1,r2,r3],[Expert_distances,SM_DS_distances,JB_DS_distances],[Expert_standard_dev,SM_DS_standard_dev,JB_DS_standard_dev]):\n",
    "    for i in range(4):\n",
    "        plt.errorbar(r[i],dist[i], dev[i],color='#003049')\n",
    "plt.title('Unscaled Corner Voxel Distance')\n",
    "# Add xticks on the middle of the group bars\n",
    "plt.xlabel('Histological Treatment', fontweight='bold')\n",
    "plt.xticks([r + barWidth for r in range(len(bars1))], ['DAB', 'CAMKII', 'GLTa', 'PITX'])\n",
    " \n",
    "# Create legend & Show graphic\n",
    "plt.legend()\n",
    "plt.show()"
   ]
  },
  {
   "cell_type": "markdown",
   "metadata": {},
   "source": [
    "Theoretically the average of the experts should be more accurate than either one independantly so here we average the two datasets and compare this to the performance of DeepSlice"
   ]
  },
  {
   "cell_type": "code",
   "execution_count": 103,
   "metadata": {},
   "outputs": [],
   "source": [
    "##Here we perform a paired students t-test\n",
    "from scipy.stats import ttest_rel\n",
    "DS_Experts_error = [abs(EX_AVG_datasets[i]-DS_datasets[i][columns]).mean(axis=1) for i in range(len(SM_datasets))]\n",
    "\n",
    "SM_JB_error = [abs(SM_datasets[i][columns]-JB_datasets[i][columns]).mean(axis=1) for i in range(len(SM_datasets))]\n",
    "##Im removing 2 nan values from The second dataset\n",
    "SM_JB_error[1] = SM_JB_error[1][:-2]\n",
    "DS_Experts_error[1] = DS_Experts_error[1][:-2]\n",
    "p_val = []\n",
    "for DS_EX, SM_JB in zip(DS_Experts_error, SM_JB_error):\n",
    "    stat, p = ttest_rel(DS_EX, SM_JB)\n",
    "    p_val.append(p)\n",
    "    print('stat=%.3f, p=%.6f' % (stat, p))"
   ]
  },
  {
   "cell_type": "code",
   "execution_count": 102,
   "metadata": {},
   "outputs": [
    {
     "data": {
      "text/plain": [
       "0     16.073334\n",
       "1     11.950921\n",
       "2      5.760775\n",
       "3      6.733696\n",
       "4      9.158082\n",
       "5      4.716084\n",
       "6      5.230941\n",
       "7      6.542839\n",
       "8      7.538278\n",
       "9     10.096551\n",
       "10     9.613721\n",
       "11     5.669621\n",
       "12     6.695313\n",
       "13     7.553126\n",
       "14     5.479453\n",
       "15     5.959492\n",
       "16     8.386728\n",
       "17     6.933637\n",
       "18     7.388813\n",
       "19     5.919469\n",
       "20     7.381936\n",
       "21     5.240320\n",
       "22    12.071024\n",
       "23    11.425582\n",
       "24     6.842661\n",
       "25     7.580432\n",
       "26     8.330230\n",
       "27    13.126963\n",
       "28     9.919452\n",
       "29    11.423028\n",
       "30     7.038753\n",
       "31     6.817794\n",
       "32     5.610324\n",
       "33    10.995550\n",
       "34     8.271605\n",
       "35    10.534212\n",
       "36     8.561675\n",
       "37     9.267296\n",
       "38     7.594814\n",
       "39    11.313951\n",
       "40     6.717621\n",
       "41     8.280246\n",
       "42     6.949005\n",
       "43     5.374237\n",
       "44     5.428172\n",
       "dtype: float64"
      ]
     },
     "execution_count": 102,
     "metadata": {},
     "output_type": "execute_result"
    }
   ],
   "source": [
    "SM_JB_error[1]"
   ]
  },
  {
   "cell_type": "code",
   "execution_count": 147,
   "metadata": {},
   "outputs": [
    {
     "data": {
      "image/png": "[encoded data removed]",
      "text/plain": [
       "<Figure size 960x720 with 1 Axes>"
      ]
     },
     "metadata": {},
     "output_type": "display_data"
    }
   ],
   "source": [
    "import numpy as np\n",
    "import matplotlib.pyplot as plt\n",
    "from matplotlib.pyplot import figure\n",
    "figure(num=None, figsize=(8, 6), dpi=120, facecolor='w', edgecolor='k')\n",
    "# set width of bar\n",
    "barWidth = 0.33\n",
    " \n",
    "# set height of bar\n",
    "bars1 = Expert_distances\n",
    "bars2 = AVG_DS_distances\n",
    "# bars3 = JB_DS_distances\n",
    " \n",
    "# Set position of bar on X axis\n",
    "r1 = np.arange(len(bars1))\n",
    "r2 = [x + barWidth for x in r1]\n",
    "# r3 = [x + barWidth for x in r2]\n",
    " \n",
    "# Make the plot\n",
    "plt.bar(r1, bars1, width=barWidth, color='#d62828', edgecolor='white', label='Simon vs Bjaalie')\n",
    "plt.bar(r2, bars2, width=barWidth, color='#f77f00', edgecolor='white', label='Experts vs DeepSlice')\n",
    "# plt.bar(r3, bars3, width=barWidth, color='#fcbf49', edgecolor='white',label='Bjaalie vs DeepSlice')\n",
    "for r, dist, dev in zip([r1,r2],[Expert_distances,AVG_DS_distances],[Expert_standard_dev,AVG_DS_standard_dev]):\n",
    "    for i in range(4):\n",
    "        plt.errorbar(r[i],dist[i], dev[i],color='#003049')\n",
    "# Add xticks on the middle of the group bars\n",
    "plt.xlabel('Histological Stain', fontweight='bold')\n",
    "plt.xticks([r + barWidth for r in range(len(bars1))], ['DAB', 'CAMKII', 'GLTa', 'PITX'])\n",
    "combine = []\n",
    "for i, j in zip(r1,r2):\n",
    "    combine.append(i)\n",
    "    combine.append(j)\n",
    "##label significant difference\n",
    "def label_diff(i,j,text,X,Y):\n",
    "    x = (X[i]+X[j])/2\n",
    "    y = 1.4*max(Y[int(i/2)], Y[int(j/2)])\n",
    "    dx = abs(X[i]-X[j])\n",
    "    props = {'connectionstyle':'bar','arrowstyle':'-',\\\n",
    "                 'shrinkA':10,'shrinkB':10,'linewidth':2}\n",
    "    plt.annotate(text, xy=(X[i],y+1.1), zorder=10)\n",
    "    plt.annotate('', xy=(X[i],y), xytext=(X[j],y), arrowprops=props)\n",
    "    \n",
    "for i,p in zip(range(0,8,2), p_val):\n",
    "    label_diff(i,i+1,'p=%.3f'% p,combine,bars1)\n",
    "# Create legend & Show graphic\n",
    "plt.legend()\n",
    "plt.show()"
   ]
  },
  {
   "cell_type": "markdown",
   "metadata": {},
   "source": [
    "Here you can see that of the three comparisons for which DeepSliceVsExpertAverage and SimonVsBjaalie were significantly different, in two cases DeepSlices error was actually lower. In the one case where it was higher DeepSlice had failed on this datatype.\n"
   ]
  },
  {
   "cell_type": "code",
   "execution_count": null,
   "metadata": {},
   "outputs": [],
   "source": []
  }
 ],
 "metadata": {
  "kernelspec": {
   "display_name": "Python 3",
   "language": "python",
   "name": "python3"
  },
  "language_info": {
   "codemirror_mode": {
    "name": "ipython",
    "version": 3
   },
   "file_extension": ".py",
   "mimetype": "text/x-python",
   "name": "python",
   "nbconvert_exporter": "python",
   "pygments_lexer": "ipython3",
   "version": "3.7.7"
  }
 },
 "nbformat": 4,
 "nbformat_minor": 4
}
