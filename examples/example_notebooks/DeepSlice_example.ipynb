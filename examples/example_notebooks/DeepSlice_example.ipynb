{
 "cells": [
  {
   "attachments": {},
   "cell_type": "markdown",
   "metadata": {
    "id": "dzxs1lm6SxGK"
   },
   "source": [
    "# **DeepSlice notebook**\n",
    "this is an example notebook designed to teach you how to use DeepSlice \n",
    "\n"
   ]
  },
  {
   "cell_type": "code",
   "execution_count": 1,
   "metadata": {},
   "outputs": [],
   "source": [
    "import os"
   ]
  },
  {
   "cell_type": "code",
   "execution_count": 2,
   "metadata": {},
   "outputs": [],
   "source": [
    "#first lets ensure we are in the DeepSlice parent directory\n",
    "# if we are in examples/example_notebooks, we need to go up two directories\n",
    "os.chdir('../../')"
   ]
  },
  {
   "attachments": {},
   "cell_type": "markdown",
   "metadata": {
    "id": "SIhHUfT1RRrw"
   },
   "source": [
    "## **Import and Build the model**"
   ]
  },
  {
   "cell_type": "code",
   "execution_count": 3,
   "metadata": {
    "id": "PqLx610CIZ3a"
   },
   "outputs": [
    {
     "name": "stderr",
     "output_type": "stream",
     "text": [
      "OMP: Info #155: KMP_AFFINITY: Initial OS proc set respected: 0-15\n",
      "OMP: Info #216: KMP_AFFINITY: decoding x2APIC ids.\n",
      "OMP: Info #157: KMP_AFFINITY: 16 available OS procs\n",
      "OMP: Info #158: KMP_AFFINITY: Uniform topology\n",
      "OMP: Info #287: KMP_AFFINITY: topology layer \"LL cache\" is equivalent to \"socket\".\n",
      "OMP: Info #287: KMP_AFFINITY: topology layer \"L3 cache\" is equivalent to \"socket\".\n",
      "OMP: Info #287: KMP_AFFINITY: topology layer \"L2 cache\" is equivalent to \"core\".\n",
      "OMP: Info #287: KMP_AFFINITY: topology layer \"L1 cache\" is equivalent to \"core\".\n",
      "OMP: Info #192: KMP_AFFINITY: 1 socket x 8 cores/socket x 2 threads/core (8 total cores)\n",
      "OMP: Info #218: KMP_AFFINITY: OS proc to physical thread map:\n",
      "OMP: Info #172: KMP_AFFINITY: OS proc 0 maps to socket 0 core 0 thread 0 \n",
      "OMP: Info #172: KMP_AFFINITY: OS proc 8 maps to socket 0 core 0 thread 1 \n",
      "OMP: Info #172: KMP_AFFINITY: OS proc 1 maps to socket 0 core 1 thread 0 \n",
      "OMP: Info #172: KMP_AFFINITY: OS proc 9 maps to socket 0 core 1 thread 1 \n",
      "OMP: Info #172: KMP_AFFINITY: OS proc 2 maps to socket 0 core 2 thread 0 \n",
      "OMP: Info #172: KMP_AFFINITY: OS proc 10 maps to socket 0 core 2 thread 1 \n",
      "OMP: Info #172: KMP_AFFINITY: OS proc 3 maps to socket 0 core 3 thread 0 \n",
      "OMP: Info #172: KMP_AFFINITY: OS proc 11 maps to socket 0 core 3 thread 1 \n",
      "OMP: Info #172: KMP_AFFINITY: OS proc 4 maps to socket 0 core 4 thread 0 \n",
      "OMP: Info #172: KMP_AFFINITY: OS proc 12 maps to socket 0 core 4 thread 1 \n",
      "OMP: Info #172: KMP_AFFINITY: OS proc 5 maps to socket 0 core 5 thread 0 \n",
      "OMP: Info #172: KMP_AFFINITY: OS proc 13 maps to socket 0 core 5 thread 1 \n",
      "OMP: Info #172: KMP_AFFINITY: OS proc 6 maps to socket 0 core 6 thread 0 \n",
      "OMP: Info #172: KMP_AFFINITY: OS proc 14 maps to socket 0 core 6 thread 1 \n",
      "OMP: Info #172: KMP_AFFINITY: OS proc 7 maps to socket 0 core 7 thread 0 \n",
      "OMP: Info #172: KMP_AFFINITY: OS proc 15 maps to socket 0 core 7 thread 1 \n",
      "OMP: Info #254: KMP_AFFINITY: pid 1853905 tid 1853905 thread 0 bound to OS proc set 0\n"
     ]
    }
   ],
   "source": [
    "from DeepSlice import DSModel"
   ]
  },
  {
   "cell_type": "code",
   "execution_count": 4,
   "metadata": {
    "colab": {
     "base_uri": "https://localhost:8080/"
    },
    "id": "MUYhpi_EIsKc",
    "outputId": "4ed363d5-e569-45b5-c35e-99cfce1eaf8f"
   },
   "outputs": [
    {
     "name": "stdout",
     "output_type": "stream",
     "text": [
      "WARNING:tensorflow:From /home/harryc/miniconda3/envs/DS-CPU/lib/python3.7/site-packages/tensorflow_core/python/ops/resource_variable_ops.py:1630: calling BaseResourceVariable.__init__ (from tensorflow.python.ops.resource_variable_ops) with constraint is deprecated and will be removed in a future version.\n",
      "Instructions for updating:\n",
      "If using Keras pass *_constraint arguments to layers.\n"
     ]
    },
    {
     "name": "stderr",
     "output_type": "stream",
     "text": [
      "2023-02-20 16:59:19.620464: I tensorflow/core/platform/cpu_feature_guard.cc:145] This TensorFlow binary is optimized with Intel(R) MKL-DNN to use the following CPU instructions in performance critical operations:  SSE4.1 SSE4.2 AVX AVX2 FMA\n",
      "To enable them in non-MKL-DNN operations, rebuild TensorFlow with the appropriate compiler flags.\n",
      "2023-02-20 16:59:19.634425: I tensorflow/core/platform/profile_utils/cpu_utils.cc:94] CPU Frequency: 2899885000 Hz\n",
      "2023-02-20 16:59:19.634550: I tensorflow/compiler/xla/service/service.cc:168] XLA service 0xaca9570 initialized for platform Host (this does not guarantee that XLA will be used). Devices:\n",
      "2023-02-20 16:59:19.634560: I tensorflow/compiler/xla/service/service.cc:176]   StreamExecutor device (0): Host, Default Version\n",
      "2023-02-20 16:59:19.634628: I tensorflow/core/common_runtime/process_util.cc:115] Creating new thread pool with default inter op setting: 2. Tune using inter_op_parallelism_threads for best performance.\n"
     ]
    }
   ],
   "source": [
    "species = 'mouse' #available species are 'mouse' and 'rat'\n",
    "\n",
    "Model = DSModel(species)"
   ]
  },
  {
   "cell_type": "markdown",
   "metadata": {
    "id": "IWOP83baRoL5"
   },
   "source": [
    "## **Make Predictions & Save Results**"
   ]
  },
  {
   "attachments": {},
   "cell_type": "markdown",
   "metadata": {
    "id": "eqyCkkHnSKCK"
   },
   "source": [
    "Next we point our model towards a folder which contains images we would like to align. <br> \n",
    "\n",
    "\n",
    "* ensemble uses multiple models to make predictions, test this out on your data as it is not better in all cases (though takes twice as long to run)\n",
    "\n",
    "* section numbers tells the model whether your images have section numbers in the file name, if True they should be included as _sXXX where X is the three digit section number"
   ]
  },
  {
   "cell_type": "code",
   "execution_count": 5,
   "metadata": {
    "colab": {
     "base_uri": "https://localhost:8080/"
    },
    "id": "kokJ0Ir1LxtS",
    "outputId": "0621290b-71df-46d0-9724-e113c6d88327"
   },
   "outputs": [
    {
     "name": "stdout",
     "output_type": "stream",
     "text": [
      "Found 35 validated image filenames.\n"
     ]
    },
    {
     "name": "stderr",
     "output_type": "stream",
     "text": [
      "OMP: Info #254: KMP_AFFINITY: pid 1853905 tid 1853948 thread 1 bound to OS proc set 1\n",
      "OMP: Info #254: KMP_AFFINITY: pid 1853905 tid 1853942 thread 2 bound to OS proc set 2\n",
      "OMP: Info #254: KMP_AFFINITY: pid 1853905 tid 1853952 thread 3 bound to OS proc set 3\n",
      "OMP: Info #254: KMP_AFFINITY: pid 1853905 tid 1853953 thread 4 bound to OS proc set 4\n",
      "OMP: Info #254: KMP_AFFINITY: pid 1853905 tid 1853955 thread 6 bound to OS proc set 6\n",
      "OMP: Info #254: KMP_AFFINITY: pid 1853905 tid 1853954 thread 5 bound to OS proc set 5\n",
      "OMP: Info #254: KMP_AFFINITY: pid 1853905 tid 1853956 thread 7 bound to OS proc set 7\n",
      "OMP: Info #254: KMP_AFFINITY: pid 1853905 tid 1853958 thread 9 bound to OS proc set 9\n",
      "OMP: Info #254: KMP_AFFINITY: pid 1853905 tid 1853959 thread 10 bound to OS proc set 10\n",
      "OMP: Info #254: KMP_AFFINITY: pid 1853905 tid 1853957 thread 8 bound to OS proc set 8\n",
      "OMP: Info #254: KMP_AFFINITY: pid 1853905 tid 1853960 thread 11 bound to OS proc set 11\n",
      "OMP: Info #254: KMP_AFFINITY: pid 1853905 tid 1853961 thread 12 bound to OS proc set 12\n",
      "OMP: Info #254: KMP_AFFINITY: pid 1853905 tid 1853962 thread 13 bound to OS proc set 13\n",
      "OMP: Info #254: KMP_AFFINITY: pid 1853905 tid 1853964 thread 15 bound to OS proc set 15\n",
      "OMP: Info #254: KMP_AFFINITY: pid 1853905 tid 1853963 thread 14 bound to OS proc set 14\n",
      "OMP: Info #254: KMP_AFFINITY: pid 1853905 tid 1853965 thread 16 bound to OS proc set 0\n",
      "OMP: Info #254: KMP_AFFINITY: pid 1853905 tid 1853966 thread 17 bound to OS proc set 1\n",
      "OMP: Info #254: KMP_AFFINITY: pid 1853905 tid 1853943 thread 18 bound to OS proc set 2\n",
      "OMP: Info #254: KMP_AFFINITY: pid 1853905 tid 1853967 thread 19 bound to OS proc set 3\n",
      "OMP: Info #254: KMP_AFFINITY: pid 1853905 tid 1853968 thread 20 bound to OS proc set 4\n",
      "OMP: Info #254: KMP_AFFINITY: pid 1853905 tid 1853969 thread 21 bound to OS proc set 5\n",
      "OMP: Info #254: KMP_AFFINITY: pid 1853905 tid 1853971 thread 23 bound to OS proc set 7\n",
      "OMP: Info #254: KMP_AFFINITY: pid 1853905 tid 1853970 thread 22 bound to OS proc set 6\n",
      "OMP: Info #254: KMP_AFFINITY: pid 1853905 tid 1853972 thread 24 bound to OS proc set 8\n",
      "OMP: Info #254: KMP_AFFINITY: pid 1853905 tid 1853973 thread 25 bound to OS proc set 9\n",
      "OMP: Info #254: KMP_AFFINITY: pid 1853905 tid 1853974 thread 26 bound to OS proc set 10\n",
      "OMP: Info #254: KMP_AFFINITY: pid 1853905 tid 1853975 thread 27 bound to OS proc set 11\n",
      "OMP: Info #254: KMP_AFFINITY: pid 1853905 tid 1853976 thread 28 bound to OS proc set 12\n",
      "OMP: Info #254: KMP_AFFINITY: pid 1853905 tid 1853977 thread 29 bound to OS proc set 13\n",
      "OMP: Info #254: KMP_AFFINITY: pid 1853905 tid 1853978 thread 30 bound to OS proc set 14\n",
      "OMP: Info #254: KMP_AFFINITY: pid 1853905 tid 1853979 thread 31 bound to OS proc set 15\n",
      "OMP: Info #254: KMP_AFFINITY: pid 1853905 tid 1853980 thread 32 bound to OS proc set 0\n",
      "OMP: Info #254: KMP_AFFINITY: pid 1853905 tid 1853981 thread 33 bound to OS proc set 1\n"
     ]
    },
    {
     "name": "stdout",
     "output_type": "stream",
     "text": [
      "34/35 [============================>.] - ETA: 1s"
     ]
    },
    {
     "name": "stderr",
     "output_type": "stream",
     "text": [
      "OMP: Info #254: KMP_AFFINITY: pid 1853905 tid 1854030 thread 1 bound to OS proc set 1\n"
     ]
    },
    {
     "name": "stdout",
     "output_type": "stream",
     "text": [
      "35/35 [==============================] - 40s 1s/step\n"
     ]
    },
    {
     "name": "stderr",
     "output_type": "stream",
     "text": [
      "OMP: Info #254: KMP_AFFINITY: pid 1853905 tid 1854035 thread 1 bound to OS proc set 1\n"
     ]
    },
    {
     "name": "stdout",
     "output_type": "stream",
     "text": [
      "34/35 [============================>.] - ETA: 1s"
     ]
    },
    {
     "name": "stderr",
     "output_type": "stream",
     "text": [
      "OMP: Info #254: KMP_AFFINITY: pid 1853905 tid 1854057 thread 34 bound to OS proc set 2\n"
     ]
    },
    {
     "name": "stdout",
     "output_type": "stream",
     "text": [
      "35/35 [==============================] - 40s 1s/step\n"
     ]
    }
   ],
   "source": [
    "#this cell should take about 1 second per image\n",
    "folderpath = 'examples/example_brain/GLTa/'\n",
    "Model.predict(folderpath, ensemble=True, section_numbers=True)"
   ]
  },
  {
   "attachments": {},
   "cell_type": "markdown",
   "metadata": {},
   "source": [
    "**Angle propagation**\n",
    "this tells the model to average the predicted angles (since your sections are cut from a block they should all share an angle)"
   ]
  },
  {
   "cell_type": "code",
   "execution_count": 6,
   "metadata": {},
   "outputs": [],
   "source": [
    "Model.propagate_angles()"
   ]
  },
  {
   "attachments": {},
   "cell_type": "markdown",
   "metadata": {},
   "source": [
    "<h2>Use section number information</h2>\n",
    "If you have included section numbers in your filenames we can do one of two things.<br>\n",
    "You need to know how accurate your section numbers are, if they are simply the order the sections were cut you can use<br>\n",
    "\n",
    "**Model.enforce_index_order()** <br>\n",
    "\n",
    "To reorder your sections according to their number. If your section numbers are the precise index which the sections were cut (ie; 1, 2, 4, indicates that section 3 has been left out of the series) You can use <br>\n",
    "\n",
    "**Model.enforce_index_spacing()**\n",
    "<br>\n",
    "\n",
    "If you know the exact Thickness of your sectionsin microns you can include this here as well, but don't worry, if you dont include it we will estimate and tell you our guess. <br>\n",
    "**Model.enforce_index_spacing(section_thickness = 25)**"
   ]
  },
  {
   "cell_type": "code",
   "execution_count": 7,
   "metadata": {},
   "outputs": [
    {
     "name": "stdout",
     "output_type": "stream",
     "text": [
      "predicted thickness is -49.59061195123242µm\n"
     ]
    }
   ],
   "source": [
    "Model.enforce_index_spacing()"
   ]
  },
  {
   "cell_type": "markdown",
   "metadata": {
    "id": "TmAKBQGPSViM"
   },
   "source": [
    "The next cell will save both a CSV file and QuickNII XML file to the current directory. If you wish to view it in quickNII simply download the xml file and brain images and place the csv in the same directory as your images."
   ]
  },
  {
   "cell_type": "code",
   "execution_count": 11,
   "metadata": {
    "colab": {
     "base_uri": "https://localhost:8080/"
    },
    "id": "AsFBw_NzL9f9",
    "outputId": "ea7da7cf-174b-42a4-b25f-2227a20f06d2"
   },
   "outputs": [
    {
     "name": "stdout",
     "output_type": "stream",
     "text": [
      "35\n",
      "saving to examples/example_brain/GLTa/MyResults.json\n",
      "saving to examples/example_brain/GLTa/MyResults.xml\n"
     ]
    }
   ],
   "source": [
    "Model.save_predictions(folderpath + 'MyResults')"
   ]
  }
 ],
 "metadata": {
  "colab": {
   "authorship_tag": "ABX9TyOrgT3kBmK2DG+N97+KlBVW",
   "include_colab_link": true,
   "name": "DeepSlice_example.ipynb",
   "provenance": [],
   "toc_visible": true
  },
  "kernelspec": {
   "display_name": "DS-CPU",
   "language": "python",
   "name": "python3"
  },
  "language_info": {
   "codemirror_mode": {
    "name": "ipython",
    "version": 3
   },
   "file_extension": ".py",
   "mimetype": "text/x-python",
   "name": "python",
   "nbconvert_exporter": "python",
   "pygments_lexer": "ipython3",
   "version": "3.7.16"
  },
  "vscode": {
   "interpreter": {
    "hash": "bb9d081d115f30eb263a989b966b689a1df26f078f2c741c7bb85b547870c623"
   }
  }
 },
 "nbformat": 4,
 "nbformat_minor": 4
}
